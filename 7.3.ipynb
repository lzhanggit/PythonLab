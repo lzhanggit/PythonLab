{
 "cells": [
  {
   "cell_type": "markdown",
   "metadata": {},
   "source": [
    "# PythonNRES 7.3 "
   ]
  },
  {
   "cell_type": "markdown",
   "metadata": {},
   "source": [
    "## 3. Based on the information at http://www.rcc-acis.org/docs_webservices.html, write Python functions that\n",
    "1. return a dataframe that includes the daily climate data for a list of stations between a given period\n",
    "2. return a dataframe that includes the pentad mean climate data for a list of stations between a given period\n",
    "3. return a dataframe that includes the monthly mean climate data for a given county and a given period"
   ]
  },
  {
   "cell_type": "code",
   "execution_count": null,
   "metadata": {},
   "outputs": [],
   "source": [
    "import numpy as np\n",
    "import urllib2\n",
    "import json\n",
    "\n",
    "import pandas as pd\n",
    "from pandas import DataFrame, Panel\n"
   ]
  }
 ],
 "metadata": {
  "kernelspec": {
   "display_name": "Python 3",
   "language": "python",
   "name": "python3"
  },
  "language_info": {
   "codemirror_mode": {
    "name": "ipython",
    "version": 3
   },
   "file_extension": ".py",
   "mimetype": "text/x-python",
   "name": "python",
   "nbconvert_exporter": "python",
   "pygments_lexer": "ipython3",
   "version": "3.7.4"
  }
 },
 "nbformat": 4,
 "nbformat_minor": 2
}
