{
 "cells": [
  {
   "cell_type": "code",
   "execution_count": 1,
   "metadata": {},
   "outputs": [
    {
     "name": "stdout",
     "output_type": "stream",
     "text": [
      "15\n",
      "1\n",
      "0.09\n",
      "9\n",
      "The number of coins is 25\n",
      "10\n",
      "1\n",
      "The number of coins is 11\n",
      "10\n",
      "The number of coins is 10\n",
      "0\n",
      "1\n",
      "0.0\n",
      "0\n",
      "The number of coins is 1\n",
      "0\n",
      "1\n",
      "1\n",
      "The number of coins is 2\n"
     ]
    }
   ],
   "source": [
    "def num_Coins(value):\n",
    "    coin_1 = int(value)\n",
    "    print(coin_1)\n",
    "    number_01 = round(value - coin_1, 2)\n",
    "    if number_01>=0.25:\n",
    "        coin_2 = int(number_01/0.25)\n",
    "        print(coin_2)\n",
    "        number_02 = round(number_01-coin_2*0.25,2)\n",
    "        print(number_02)\n",
    "        if number_02>=0.1:\n",
    "            coin_3 = int(number_02/0.1)\n",
    "            print(coin_3)\n",
    "            number_03 = round(number_02-coin_3*0.1,2)\n",
    "            coin_4 = int(number_03/0.01)\n",
    "            print(coin_4)\n",
    "            total = coin_1+coin_2+coin_3+coin_4\n",
    "            print('The number of coins is %d'%int(total))\n",
    "        else:\n",
    "            coin_3 = int(number_02/0.01)\n",
    "            print(coin_3)\n",
    "            total = coin_1+coin_2+coin_3\n",
    "            print('The number of coins is %d'%int(total))\n",
    "    elif number_01 !=0:\n",
    "        if number_01>=0.1:\n",
    "            coin_2 = int(number_01/0.1)\n",
    "            print(coin_2)\n",
    "            number_02 = round(number_01-coin_2*0.1,2)\n",
    "            coin_3 = int(number_02/0.01)\n",
    "            print(coin_3)\n",
    "            total = coin_1+coin_2+coin_3\n",
    "            print('The number of coins is %d'%int(total))\n",
    "        else:\n",
    "            coin_2 = int(number_01/0.01)\n",
    "            print(coin_2)\n",
    "            total = coin_1+coin_2\n",
    "            print('The number of coins is %d'%int(total))\n",
    "    else:\n",
    "        print('The number of coins is %d'%int(coin_1))\n",
    "if __name__ == '__main__':\n",
    "    price1 = 15.34\n",
    "    price2 = 10.01\n",
    "    price3 = 10.00\n",
    "    price4 = 0.25\n",
    "    price5 = 0.11\n",
    "    num_Coins(price1)\n",
    "    num_Coins(price2)\n",
    "    num_Coins(price3)\n",
    "    num_Coins(price4)\n",
    "    num_Coins(price5)"
   ]
  },
  {
   "cell_type": "code",
   "execution_count": 2,
   "metadata": {},
   "outputs": [
    {
     "name": "stdout",
     "output_type": "stream",
     "text": [
      "185 Need 5 Coins\n",
      "[10, 25, 25, 25, 100]\n"
     ]
    }
   ],
   "source": [
    "def returncoin(return_change, coins_list, number_list, used_list):\n",
    "    for change in range(return_change+1): \n",
    "        for currency in coins_list:\n",
    "            if (change-currency >= 0) and (number_list[change-currency]+1<=number_list[change]):\n",
    "                number_list[change] = number_list[change-currency] + 1\n",
    "                used_list[change] = currency \n",
    "    return\n",
    "\n",
    "def showchange(return_change, used_list):\n",
    "    give_list = []\n",
    "    while return_change > 0:\n",
    "        give_list.append(used_list[return_change])\n",
    "        return_change -= used_list[return_change]\n",
    "    give_list.sort() \n",
    "    return give_list\n",
    "\n",
    "def main():\n",
    "    return_change = 185 # input value here\n",
    "    coins_list = [1, 10, 25, 100]\n",
    "    number_list = list(range(return_change+1)) \n",
    "    used_list = list(range(return_change+1)) \n",
    "    returncoin(return_change, coins_list, number_list, used_list)\n",
    "    print(\"%d Need %d Coins\"%(return_change, number_list[return_change]))\n",
    "    give_list = showchange(return_change, used_list)\n",
    "    print(give_list)\n",
    "    \n",
    "if __name__ == \"__main__\":\n",
    "    main()"
   ]
  },
  {
   "cell_type": "code",
   "execution_count": null,
   "metadata": {},
   "outputs": [],
   "source": []
  }
 ],
 "metadata": {
  "kernelspec": {
   "display_name": "Python 3",
   "language": "python",
   "name": "python3"
  },
  "language_info": {
   "codemirror_mode": {
    "name": "ipython",
    "version": 3
   },
   "file_extension": ".py",
   "mimetype": "text/x-python",
   "name": "python",
   "nbconvert_exporter": "python",
   "pygments_lexer": "ipython3",
   "version": "3.7.4"
  }
 },
 "nbformat": 4,
 "nbformat_minor": 2
}
