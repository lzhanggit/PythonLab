{
 "cells": [
  {
   "cell_type": "markdown",
   "metadata": {},
   "source": [
    "1. Write a Python function that takes a list of words and reytrns the length of the longest one"
   ]
  },
  {
   "cell_type": "code",
   "execution_count": 63,
   "metadata": {},
   "outputs": [
    {
     "data": {
      "text/plain": [
       "(8, 'resberry')"
      ]
     },
     "execution_count": 63,
     "metadata": {},
     "output_type": "execute_result"
    }
   ],
   "source": [
    "list1 = ['apple', 'banana', 'resberry', 'avacado']\n",
    "def get_longest_word(word_list):\n",
    "    max_len = 0\n",
    "    for word in word_list:\n",
    "        if len(word) > max_len:\n",
    "            max_len = len(word)\n",
    "            result = word\n",
    "    return max_len, result\n",
    "\n",
    "get_longest_word(list1)"
   ]
  },
  {
   "cell_type": "markdown",
   "metadata": {},
   "source": [
    "2. Write a Python program to count the number of characters in a string"
   ]
  },
  {
   "cell_type": "code",
   "execution_count": 68,
   "metadata": {},
   "outputs": [
    {
     "data": {
      "text/plain": [
       "11"
      ]
     },
     "execution_count": 68,
     "metadata": {},
     "output_type": "execute_result"
    }
   ],
   "source": [
    "text = \"hello world\"\n",
    "def count_chars(txt):\n",
    "    result = 0\n",
    "    for char in txt:\n",
    "        result += 1\n",
    "    return result\n",
    "count_chars(text)"
   ]
  },
  {
   "cell_type": "code",
   "execution_count": 76,
   "metadata": {},
   "outputs": [
    {
     "data": {
      "text/plain": [
       "11"
      ]
     },
     "execution_count": 76,
     "metadata": {},
     "output_type": "execute_result"
    }
   ],
   "source": [
    "# second \n",
    "text = \"hello world\"\n",
    "def count_chars2(txt):\n",
    "    return len(list(txt))\n",
    "count_chars2(text)"
   ]
  },
  {
   "cell_type": "markdown",
   "metadata": {},
   "source": [
    "3. Write a Python program to sort (ascending and descending) a dictionary by value"
   ]
  },
  {
   "cell_type": "code",
   "execution_count": 2,
   "metadata": {},
   "outputs": [
    {
     "name": "stdout",
     "output_type": "stream",
     "text": [
      "{'a': 1, 'b': 100, 'c': 77, 'd': 66, 'e': 55}\n"
     ]
    },
    {
     "data": {
      "text/plain": [
       "[('a', 1), ('e', 55), ('d', 66), ('c', 77), ('b', 100)]"
      ]
     },
     "execution_count": 2,
     "metadata": {},
     "output_type": "execute_result"
    }
   ],
   "source": [
    "dict1 = {'a':1, 'b':100, 'c':77, 'd':66, 'e':55}\n",
    "print(dict1)\n",
    "sorted(dict1.items(),key=lambda item:item[1])\n",
    "\n"
   ]
  },
  {
   "cell_type": "markdown",
   "metadata": {},
   "source": [
    "4. Write a Python program to change a givern string to a new string where the first and last chars have been exchanged."
   ]
  },
  {
   "cell_type": "code",
   "execution_count": 38,
   "metadata": {},
   "outputs": [
    {
     "name": "stdout",
     "output_type": "stream",
     "text": [
      "ABCello worlXYZ\n"
     ]
    }
   ],
   "source": [
    "text1 = 'hello world'\n",
    "list1 = list(text1)\n",
    "list1[0] = 'ABC'\n",
    "list1[-1] = 'XYZ'\n",
    "text2 = ''.join(list1)\n",
    "print(text2)"
   ]
  },
  {
   "cell_type": "markdown",
   "metadata": {},
   "source": [
    "5. Write a Python function that takes two lists and returns True if they have at least one common member."
   ]
  },
  {
   "cell_type": "code",
   "execution_count": 66,
   "metadata": {},
   "outputs": [
    {
     "name": "stdout",
     "output_type": "stream",
     "text": [
      "{'apple', 'banana'}\n",
      "true\n"
     ]
    }
   ],
   "source": [
    "list1 = ['apple', 'banana', 'resberry', 'avacado']\n",
    "list2 = ['apple', 'banana', 'strawberry', 'cherry']\n",
    "list3 = set(list1).intersection(set(list2))\n",
    "print(list3)\n",
    "if list3:\n",
    "    print(\"true\")\n",
    "else:\n",
    "    print(\"false\")\n",
    "    "
   ]
  },
  {
   "cell_type": "markdown",
   "metadata": {},
   "source": [
    "6. Write a Python function that return the minimum number of coins ($0.01, $0.1, $0.25, $1) that make a given value."
   ]
  },
  {
   "cell_type": "code",
   "execution_count": 93,
   "metadata": {},
   "outputs": [
    {
     "name": "stdout",
     "output_type": "stream",
     "text": [
      "185 Need 5 Coins\n",
      "[10, 25, 25, 25, 100]\n"
     ]
    }
   ],
   "source": [
    "def returncoin(return_change, coins_list, number_list, used_list):\n",
    "    for change in range(return_change+1): \n",
    "        for currency in coins_list:\n",
    "            if (change-currency >= 0) and (number_list[change-currency]+1<=number_list[change]):\n",
    "                number_list[change] = number_list[change-currency] + 1\n",
    "                used_list[change] = currency \n",
    "    return\n",
    "\n",
    "def showchange(return_change, used_list):\n",
    "    give_list = []\n",
    "    while return_change > 0:\n",
    "        give_list.append(used_list[return_change])\n",
    "        return_change -= used_list[return_change]\n",
    "    give_list.sort() \n",
    "    return give_list\n",
    "\n",
    "def main():\n",
    "    return_change = 185 # input value here\n",
    "    coins_list = [1, 10, 25, 100]\n",
    "    number_list = list(range(return_change+1)) \n",
    "    used_list = list(range(return_change+1)) \n",
    "    returncoin(return_change, coins_list, number_list, used_list)\n",
    "    print(\"%d Need %d Coins\"%(return_change, number_list[return_change]))\n",
    "    give_list = showchange(return_change, used_list)\n",
    "    print(give_list)\n",
    "    \n",
    "if __name__ == \"__main__\":\n",
    "    main()"
   ]
  },
  {
   "cell_type": "code",
   "execution_count": 94,
   "metadata": {},
   "outputs": [
    {
     "name": "stdout",
     "output_type": "stream",
     "text": [
      "15\n",
      "1\n",
      "0.09\n",
      "9\n",
      "The number of coins is 25\n",
      "10\n",
      "1\n",
      "The number of coins is 11\n",
      "10\n",
      "The number of coins is 10\n",
      "0\n",
      "1\n",
      "0.0\n",
      "0\n",
      "The number of coins is 1\n",
      "0\n",
      "1\n",
      "1\n",
      "The number of coins is 2\n"
     ]
    }
   ],
   "source": [
    "def num_Coins(value):\n",
    "    coin_1 = int(value)\n",
    "    print(coin_1)\n",
    "    number_01 = round(value - coin_1, 2)\n",
    "    if number_01>=0.25:\n",
    "        coin_2 = int(number_01/0.25)\n",
    "        print(coin_2)\n",
    "        number_02 = round(number_01-coin_2*0.25,2)\n",
    "        print(number_02)\n",
    "        if number_02>=0.1:\n",
    "            coin_3 = int(number_02/0.1)\n",
    "            print(coin_3)\n",
    "            number_03 = round(number_02-coin_3*0.1,2)\n",
    "            coin_4 = int(number_03/0.01)\n",
    "            print(coin_4)\n",
    "            total = coin_1+coin_2+coin_3+coin_4\n",
    "            print('The number of coins is %d'%int(total))\n",
    "        else:\n",
    "            coin_3 = int(number_02/0.01)\n",
    "            print(coin_3)\n",
    "            total = coin_1+coin_2+coin_3\n",
    "            print('The number of coins is %d'%int(total))\n",
    "    elif number_01 !=0:\n",
    "        if number_01>=0.1:\n",
    "            coin_2 = int(number_01/0.1)\n",
    "            print(coin_2)\n",
    "            number_02 = round(number_01-coin_2*0.1,2)\n",
    "            coin_3 = int(number_02/0.01)\n",
    "            print(coin_3)\n",
    "            total = coin_1+coin_2+coin_3\n",
    "            print('The number of coins is %d'%int(total))\n",
    "        else:\n",
    "            coin_2 = int(number_01/0.01)\n",
    "            print(coin_2)\n",
    "            total = coin_1+coin_2\n",
    "            print('The number of coins is %d'%int(total))\n",
    "    else:\n",
    "        print('The number of coins is %d'%int(coin_1))\n",
    "if __name__ == '__main__':\n",
    "    price1 = 15.34\n",
    "    price2 = 10.01\n",
    "    price3 = 10.00\n",
    "    price4 = 0.25\n",
    "    price5 = 0.11\n",
    "    num_Coins(price1)\n",
    "    num_Coins(price2)\n",
    "    num_Coins(price3)\n",
    "    num_Coins(price4)\n",
    "    num_Coins(price5)"
   ]
  },
  {
   "cell_type": "code",
   "execution_count": null,
   "metadata": {},
   "outputs": [],
   "source": [
    "def change(coin1, coin2, coin3, coin4): #$0.01, $0.1, $0.25, $1\n",
    "    \n"
   ]
  }
 ],
 "metadata": {
  "kernelspec": {
   "display_name": "Python 3",
   "language": "python",
   "name": "python3"
  },
  "language_info": {
   "codemirror_mode": {
    "name": "ipython",
    "version": 3
   },
   "file_extension": ".py",
   "mimetype": "text/x-python",
   "name": "python",
   "nbconvert_exporter": "python",
   "pygments_lexer": "ipython3",
   "version": "3.7.4"
  }
 },
 "nbformat": 4,
 "nbformat_minor": 2
}
